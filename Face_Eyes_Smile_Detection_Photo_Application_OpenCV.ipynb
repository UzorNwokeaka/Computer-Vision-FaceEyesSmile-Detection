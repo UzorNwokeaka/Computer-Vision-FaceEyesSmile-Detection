{
 "cells": [
  {
   "cell_type": "code",
   "execution_count": 9,
   "id": "5682a8eb-41f3-4791-aa8a-64c1f48f64ce",
   "metadata": {},
   "outputs": [],
   "source": [
    "# import open-cv library\n",
    "import cv2"
   ]
  },
  {
   "cell_type": "code",
   "execution_count": 10,
   "id": "e71df058-ff25-4273-bb35-7e48311b862c",
   "metadata": {},
   "outputs": [],
   "source": [
    "# Leverage Haar Cascade Classifiers to build a face detection application\n",
    "\n",
    "# Haar Cascade Classifier for the face.\n",
    "face_cascade=cv2.CascadeClassifier(cv2.data.haarcascades + \"haarcascade_frontalface_default.xml\")\n",
    "\n",
    "# Haar Cascade Classifier for the Eyes.\n",
    "eyes_cascade=cv2.CascadeClassifier(cv2.data.haarcascades + \"haarcascade_eye.xml\")\n",
    "\n",
    "# Haar Cascade Classifier for Smile detection.\n",
    "smile_cascade=cv2.CascadeClassifier(cv2.data.haarcascades + \"haarcascade_smile.xml\")"
   ]
  },
  {
   "cell_type": "code",
   "execution_count": 11,
   "id": "7bdbbc4e-5fbd-4afe-ba78-a008887b24d9",
   "metadata": {},
   "outputs": [],
   "source": [
    "# Creates a function that detects the face, eyes and mouth (smile)\n",
    "def detect(gray, frame):\n",
    "    face=face_cascade.detectMultiScale(gray, 1.3, 5)\n",
    "\n",
    "    # Loop for face detection\n",
    "    for (x,y,w,h) in face:\n",
    "        cv2.rectangle(frame, (x,y), (x+w, y+h), (255, 0, 0), 3)\n",
    "        roi_gray=gray[y:y+h, x:x+w]\n",
    "        roi_color=frame[y:y+h, x:x+w]\n",
    "\n",
    "        # Loop for eyes detection\n",
    "        eyes=eyes_cascade.detectMultiScale(gray, 1.1, 5)\n",
    "        for (ex,ey,ew,eh) in eyes:\n",
    "            cv2.rectangle(frame, (ex,ey), (ex+ew, ey+eh), (0, 100, 200), 2)\n",
    "\n",
    "        # Loop for smile detection\n",
    "        smile=smile_cascade.detectMultiScale(gray, 1.7, 25)\n",
    "        for (sx,sy,sw,sh) in smile:\n",
    "            cv2.rectangle(frame, (sx,sy), (sx+sw, sy+sh), (0, 200, 100), 2)\n",
    "       \n",
    "    return frame"
   ]
  },
  {
   "cell_type": "code",
   "execution_count": 12,
   "id": "4fdbb4ec-1e70-4f19-9c2e-03e6c3ea5688",
   "metadata": {},
   "outputs": [],
   "source": [
    "\n",
    "# Load the image\n",
    "image_path = (r\"C:\\Users\\shopinverse\\Documents\\Python Datasets\\Uzor Profile Pix - 19062023.jpeg\")\n",
    "frame = cv2.imread(image_path)\n",
    "\n",
    "# Convert to grayscale\n",
    "gray = cv2.cvtColor(frame, cv2.COLOR_BGR2GRAY)\n",
    "\n",
    "# Process the image with your 'detect' function\n",
    "canvas = detect(gray, frame)\n",
    "\n",
    "# Display the processed image\n",
    "cv2.imshow('Image', canvas)\n",
    "\n",
    "# Wait for a key press and then close the window\n",
    "cv2.waitKey(0)\n",
    "cv2.destroyAllWindows()"
   ]
  },
  {
   "cell_type": "code",
   "execution_count": null,
   "id": "7720f90d-194c-45ec-8e4f-54f84a50b6a8",
   "metadata": {},
   "outputs": [],
   "source": []
  },
  {
   "cell_type": "code",
   "execution_count": null,
   "id": "993d9f18-5104-4d3c-9c69-83d0a3084655",
   "metadata": {},
   "outputs": [],
   "source": []
  }
 ],
 "metadata": {
  "kernelspec": {
   "display_name": "Python 3 (ipykernel)",
   "language": "python",
   "name": "python3"
  },
  "language_info": {
   "codemirror_mode": {
    "name": "ipython",
    "version": 3
   },
   "file_extension": ".py",
   "mimetype": "text/x-python",
   "name": "python",
   "nbconvert_exporter": "python",
   "pygments_lexer": "ipython3",
   "version": "3.11.4"
  }
 },
 "nbformat": 4,
 "nbformat_minor": 5
}
